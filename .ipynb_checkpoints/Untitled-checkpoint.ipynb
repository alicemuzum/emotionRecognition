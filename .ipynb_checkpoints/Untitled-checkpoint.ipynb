{
 "cells": [
  {
   "cell_type": "code",
   "execution_count": 1,
   "id": "a9db62fe",
   "metadata": {},
   "outputs": [],
   "source": [
    "import numpy as np\n",
    "import matplotlib.pyplot as plt\n",
    "import copy\n",
    "import math\n",
    "%matplotlib inline"
   ]
  },
  {
   "cell_type": "code",
   "execution_count": 2,
   "id": "08863806",
   "metadata": {},
   "outputs": [
    {
     "name": "stdout",
     "output_type": "stream",
     "text": [
      "float64\n"
     ]
    }
   ],
   "source": [
    "#Metrekareye göre ev fiyatları\n",
    "train_x = np.array([0.80,0.90,1.0,1.20,1.25,1.35],dtype='longdouble')\n",
    "train_y = np.array([1.60,1.80,2.0,2.40,2.50,2.70],dtype='longdouble')\n",
    "print(train_x.dtype)"
   ]
  },
  {
   "cell_type": "code",
   "execution_count": 3,
   "id": "fc8489f6",
   "metadata": {},
   "outputs": [
    {
     "name": "stdout",
     "output_type": "stream",
     "text": [
      "The shape of train_x is: (6,)\n",
      "The shape of train_y is:  (6,)\n",
      "Number of training examples (m): 6\n"
     ]
    }
   ],
   "source": [
    "print ('The shape of train_x is:', train_x.shape)\n",
    "print ('The shape of train_y is: ', train_y.shape)\n",
    "print ('Number of training examples (m):', len(train_x))"
   ]
  },
  {
   "cell_type": "code",
   "execution_count": 4,
   "id": "8afb62af",
   "metadata": {},
   "outputs": [
    {
     "data": {
      "image/png": "[encoded data removed]",
      "text/plain": [
       "<Figure size 640x480 with 1 Axes>"
      ]
     },
     "metadata": {},
     "output_type": "display_data"
    }
   ],
   "source": [
    "plt.scatter(train_x, train_y, marker='x', c='r') \n",
    "\n",
    "# Set the title\n",
    "plt.title(\"House Prices According to SquareMeter\")\n",
    "# Set the y-axis label\n",
    "plt.ylabel('Price (x100)')\n",
    "# Set the x-axis label\n",
    "plt.xlabel('SquareMeter (x100)')\n",
    "plt.show()"
   ]
  },
  {
   "cell_type": "code",
   "execution_count": 5,
   "id": "3a93a3db",
   "metadata": {},
   "outputs": [],
   "source": [
    "def compute_cost(x, y, w, b): \n",
    "    \"\"\"\n",
    "    Computes the cost function for linear regression.\n",
    "    \n",
    "    Args:\n",
    "        x (ndarray): Shape (m,) Input to the model (Population of cities) \n",
    "        y (ndarray): Shape (m,) Label (Actual profits for the cities)\n",
    "        w, b (scalar): Parameters of the model\n",
    "    \n",
    "    Returns\n",
    "        total_cost (float): The cost of using w,b as the parameters for linear regression\n",
    "               to fit the data points in x and y\n",
    "    \"\"\"\n",
    "    # number of training examples\n",
    "    m = x.shape[0] \n",
    "    \n",
    "    # You need to return this variable correctly\n",
    "    total_cost = 0\n",
    "    \n",
    "    summ = 0\n",
    "    for sample in range(m):\n",
    "        pred = w * x[sample] + b\n",
    "        cost = (pred - y[sample])**2\n",
    "        summ += cost\n",
    "    total_cost = summ / (2*m)\n",
    "\n",
    "    return total_cost\n"
   ]
  },
  {
   "cell_type": "code",
   "execution_count": 6,
   "id": "3a7bcbfc",
   "metadata": {},
   "outputs": [
    {
     "name": "stdout",
     "output_type": "stream",
     "text": [
      "<class 'numpy.longdouble'>\n",
      "Cost at initial w: 0.500\n"
     ]
    }
   ],
   "source": [
    "# Compute cost with some initial values for paramaters w, b\n",
    "initial_w = 2\n",
    "initial_b = 1\n",
    "\n",
    "cost = compute_cost(train_x, train_y, initial_w, initial_b)\n",
    "print(type(cost))\n",
    "print(f'Cost at initial w: {cost:.3f}')"
   ]
  },
  {
   "cell_type": "code",
   "execution_count": 7,
   "id": "62e7b174",
   "metadata": {},
   "outputs": [],
   "source": [
    "def compute_gradient(x, y, w, b): \n",
    "    \"\"\"\n",
    "    Computes the gradient for linear regression \n",
    "    Args:\n",
    "      x (ndarray): Shape (m,) Input to the model (Population of cities) \n",
    "      y (ndarray): Shape (m,) Label (Actual profits for the cities)\n",
    "      w, b (scalar): Parameters of the model  \n",
    "    Returns\n",
    "      dj_dw (scalar): The gradient of the cost w.r.t. the parameters w\n",
    "      dj_db (scalar): The gradient of the cost w.r.t. the parameter b     \n",
    "     \"\"\"\n",
    "    \n",
    "    # Number of training examples\n",
    "    m = x.shape[0]\n",
    "    \n",
    "    # You need to return the following variables correctly\n",
    "    dj_dw = 0\n",
    "    dj_db = 0\n",
    "    \n",
    "    for sample in range(m):\n",
    "        pred = w * x[sample] + b\n",
    "        dj_dw += (pred - y[sample]) * x[sample]\n",
    "        dj_db += (pred - y[sample])\n",
    "    dj_dw = dj_dw / m\n",
    "    dj_db = dj_db / m\n",
    "        \n",
    "    return dj_dw, dj_db"
   ]
  },
  {
   "cell_type": "code",
   "execution_count": 8,
   "id": "c350c7aa",
   "metadata": {},
   "outputs": [
    {
     "name": "stdout",
     "output_type": "stream",
     "text": [
      "Gradient at test w, b: -1.9658333333333333 -1.75\n"
     ]
    }
   ],
   "source": [
    "# Compute and display cost and gradient with non-zero w\n",
    "test_w = 0.2\n",
    "test_b = 0.2\n",
    "tmp_dj_dw, tmp_dj_db = compute_gradient(train_x, train_y, test_w, test_b)\n",
    "\n",
    "print('Gradient at test w, b:', tmp_dj_dw, tmp_dj_db)"
   ]
  },
  {
   "cell_type": "code",
   "execution_count": 9,
   "id": "70e87dd1",
   "metadata": {},
   "outputs": [],
   "source": [
    "def gradient_descent(x, y, w_in, b_in, cost_function, gradient_function, alpha, num_iters): \n",
    "    \"\"\"\n",
    "    Performs batch gradient descent to learn theta. Updates theta by taking \n",
    "    num_iters gradient steps with learning rate alpha\n",
    "    \n",
    "    Args:\n",
    "      x :    (ndarray): Shape (m,)\n",
    "      y :    (ndarray): Shape (m,)\n",
    "      w_in, b_in : (scalar) Initial values of parameters of the model\n",
    "      cost_function: function to compute cost\n",
    "      gradient_function: function to compute the gradient\n",
    "      alpha : (float) Learning rate\n",
    "      num_iters : (int) number of iterations to run gradient descent\n",
    "    Returns\n",
    "      w : (ndarray): Shape (1,) Updated values of parameters of the model after\n",
    "          running gradient descent\n",
    "      b : (scalar)                Updated value of parameter of the model after\n",
    "          running gradient descent\n",
    "    \"\"\"\n",
    "    \n",
    "    # number of training examples\n",
    "    m = len(x)\n",
    "    \n",
    "    # An array to store cost J and w's at each iteration — primarily for graphing later\n",
    "    J_history = []\n",
    "    w_history = []\n",
    "    w = copy.deepcopy(w_in)  #avoid modifying global w within function\n",
    "    b = b_in\n",
    "    \n",
    "    for i in range(num_iters):\n",
    "\n",
    "        # Calculate the gradient and update the parameters\n",
    "        dj_dw, dj_db = gradient_function(x, y, w, b )  \n",
    "\n",
    "        # Update Parameters using w, b, alpha and gradient\n",
    "        w = w - alpha * dj_dw               \n",
    "        b = b - alpha * dj_db               \n",
    "\n",
    "        # Save cost J at each iteration\n",
    "        if i<100000:      # prevent resource exhaustion \n",
    "            cost =  cost_function(x, y, w, b)\n",
    "            J_history.append(cost)\n",
    "\n",
    "        # Print cost every at intervals 10 times or as many iterations if < 10\n",
    "        if i% math.ceil(num_iters/10) == 0:\n",
    "            w_history.append(w)\n",
    "            print(f\"Iteration {i:4}: Cost {float(J_history[-1]):8.2f}   \")\n",
    "        \n",
    "    return w, b, J_history, w_history #return w and J,w history for graphing"
   ]
  },
  {
   "cell_type": "code",
   "execution_count": 14,
   "id": "2b34a494",
   "metadata": {},
   "outputs": [
    {
     "name": "stdout",
     "output_type": "stream",
     "text": [
      "Iteration    0: Cost     2.32   \n",
      "Iteration  150: Cost     0.02   \n",
      "Iteration  300: Cost     0.01   \n",
      "Iteration  450: Cost     0.01   \n",
      "Iteration  600: Cost     0.01   \n",
      "Iteration  750: Cost     0.01   \n",
      "Iteration  900: Cost     0.01   \n",
      "Iteration 1050: Cost     0.01   \n",
      "Iteration 1200: Cost     0.01   \n",
      "Iteration 1350: Cost     0.01   \n",
      "w,b found by gradient descent: 1.3082374164887298 0.7629276274321917\n"
     ]
    }
   ],
   "source": [
    "np.set_printoptions(precision=5)\n",
    "# initialize fitting parameters. Recall that the shape of w is (n,)\n",
    "initial_w = np.float64(0)\n",
    "initial_b = np.float64(0)\n",
    "\n",
    "# some gradient descent settings\n",
    "iterations = 1500\n",
    "alpha = 0.01\n",
    "\n",
    "w,b,_,_ = gradient_descent(train_x ,train_y, initial_w, initial_b, \n",
    "                     compute_cost, compute_gradient, alpha, iterations)\n",
    "print(\"w,b found by gradient descent:\", w, b)"
   ]
  },
  {
   "cell_type": "code",
   "execution_count": 11,
   "id": "1eee3f02",
   "metadata": {},
   "outputs": [],
   "source": [
    "m = train_x.shape[0]\n",
    "predicted = np.zeros(m)\n",
    "\n",
    "for i in range(m):\n",
    "    predicted[i] = w * train_x[i] + b"
   ]
  },
  {
   "cell_type": "code",
   "execution_count": 12,
   "id": "35502d21",
   "metadata": {},
   "outputs": [
    {
     "data": {
      "text/plain": [
       "([<matplotlib.axis.YTick at 0x1cd2bd52e50>,\n",
       "  <matplotlib.axis.YTick at 0x1cd2bd526a0>,\n",
       "  <matplotlib.axis.YTick at 0x1cd2bcea5e0>,\n",
       "  <matplotlib.axis.YTick at 0x1cd2bd7adc0>,\n",
       "  <matplotlib.axis.YTick at 0x1cd2bd85550>,\n",
       "  <matplotlib.axis.YTick at 0x1cd2bd7adf0>,\n",
       "  <matplotlib.axis.YTick at 0x1cd2bd852b0>,\n",
       "  <matplotlib.axis.YTick at 0x1cd2bd8c430>,\n",
       "  <matplotlib.axis.YTick at 0x1cd2bd8cb80>,\n",
       "  <matplotlib.axis.YTick at 0x1cd2bd91310>,\n",
       "  <matplotlib.axis.YTick at 0x1cd2bd91a60>,\n",
       "  <matplotlib.axis.YTick at 0x1cd2bd971f0>,\n",
       "  <matplotlib.axis.YTick at 0x1cd2bd91820>,\n",
       "  <matplotlib.axis.YTick at 0x1cd2bd8c520>,\n",
       "  <matplotlib.axis.YTick at 0x1cd2bd97700>],\n",
       " [Text(0, 0, ''),\n",
       "  Text(0, 0, ''),\n",
       "  Text(0, 0, ''),\n",
       "  Text(0, 0, ''),\n",
       "  Text(0, 0, ''),\n",
       "  Text(0, 0, ''),\n",
       "  Text(0, 0, ''),\n",
       "  Text(0, 0, ''),\n",
       "  Text(0, 0, ''),\n",
       "  Text(0, 0, ''),\n",
       "  Text(0, 0, ''),\n",
       "  Text(0, 0, ''),\n",
       "  Text(0, 0, ''),\n",
       "  Text(0, 0, ''),\n",
       "  Text(0, 0, '')])"
      ]
     },
     "execution_count": 12,
     "metadata": {},
     "output_type": "execute_result"
    },
    {
     "data": {
      "image/png": "[encoded data removed]",
      "text/plain": [
       "<Figure size 640x480 with 1 Axes>"
      ]
     },
     "metadata": {},
     "output_type": "display_data"
    }
   ],
   "source": [
    "\n",
    "# Plot the linear fit\n",
    "plt.plot(train_x, predicted, c = \"b\")\n",
    "\n",
    "# Create a scatter plot of the data. \n",
    "plt.scatter(train_x, train_y, marker='x', c='r') \n",
    "\n",
    "# Set the title\n",
    "plt.title(\"House Prices According to SquareMeter\")\n",
    "# Set the y-axis label\n",
    "plt.ylabel('Prices (x100,000)')\n",
    "# Set the x-axis label\n",
    "plt.xlabel('SquareMeters (x100)')\n",
    "plt.yticks(np.arange(1.5,3,0.1))"
   ]
  },
  {
   "cell_type": "code",
   "execution_count": 13,
   "id": "3af7599e",
   "metadata": {},
   "outputs": [
    {
     "name": "stdout",
     "output_type": "stream",
     "text": [
      "For squaremeter = 110, we predict the price as $220198.88\n",
      "For squaremeter = 100, we predict the price as $207116.50\n"
     ]
    }
   ],
   "source": [
    "predict1 = 1.1 * w + b\n",
    "print('For squaremeter = 110, we predict the price as $%.2f' % (predict1*100000))\n",
    "\n",
    "predict2 = 1.0 * w + b\n",
    "print('For squaremeter = 100, we predict the price as $%.2f' % (predict2*100000))"
   ]
  },
  {
   "cell_type": "code",
   "execution_count": null,
   "id": "78d83f1c",
   "metadata": {},
   "outputs": [],
   "source": []
  }
 ],
 "metadata": {
  "kernelspec": {
   "display_name": "Python 3 (ipykernel)",
   "language": "python",
   "name": "python3"
  },
  "language_info": {
   "codemirror_mode": {
    "name": "ipython",
    "version": 3
   },
   "file_extension": ".py",
   "mimetype": "text/x-python",
   "name": "python",
   "nbconvert_exporter": "python",
   "pygments_lexer": "ipython3",
   "version": "3.9.12"
  }
 },
 "nbformat": 4,
 "nbformat_minor": 5
}
